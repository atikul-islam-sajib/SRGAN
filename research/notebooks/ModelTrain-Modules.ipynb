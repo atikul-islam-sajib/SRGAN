{
 "cells": [
  {
   "cell_type": "markdown",
   "metadata": {},
   "source": [
    "#### Clone the repo"
   ]
  },
  {
   "cell_type": "code",
   "execution_count": null,
   "metadata": {},
   "outputs": [],
   "source": [
    "!git clone https://github.com/atikul-islam-sajib/SRGAN.git"
   ]
  },
  {
   "cell_type": "markdown",
   "metadata": {},
   "source": [
    "##### Change the directory"
   ]
  },
  {
   "cell_type": "code",
   "execution_count": null,
   "metadata": {},
   "outputs": [],
   "source": [
    "%cd SRGAN"
   ]
  },
  {
   "cell_type": "markdown",
   "metadata": {},
   "source": [
    "#### Import all modules"
   ]
  },
  {
   "cell_type": "code",
   "execution_count": null,
   "metadata": {},
   "outputs": [],
   "source": [
    "from src.dataloader import Loader\n",
    "from src.trainer import Trainer\n",
    "from src.charts import Test\n",
    "from src.inference import Inference"
   ]
  },
  {
   "cell_type": "markdown",
   "metadata": {},
   "source": [
    "#### Create the dataloader"
   ]
  },
  {
   "cell_type": "code",
   "execution_count": null,
   "metadata": {},
   "outputs": [],
   "source": [
    "loader = Loader(\n",
    "    image_path=\"./brain.zip\",\n",
    "    batch_size=1,\n",
    "    image_size=128,\n",
    "    is_sub_samples=True,\n",
    ")\n",
    "\n",
    "loader.unzip_folder()\n",
    "loader.create_dataloader()"
   ]
  },
  {
   "cell_type": "markdown",
   "metadata": {},
   "source": [
    "##### To check the details and image"
   ]
  },
  {
   "cell_type": "code",
   "execution_count": null,
   "metadata": {},
   "outputs": [],
   "source": [
    "print(loader.details_dataset())"
   ]
  },
  {
   "cell_type": "code",
   "execution_count": null,
   "metadata": {},
   "outputs": [],
   "source": [
    "loader.display_images()"
   ]
  },
  {
   "cell_type": "markdown",
   "metadata": {},
   "source": [
    "#### Do the training"
   ]
  },
  {
   "cell_type": "code",
   "execution_count": null,
   "metadata": {},
   "outputs": [],
   "source": [
    "trainer = Trainer(\n",
    "    epochs=100,  # Number of epochs to train the model\n",
    "    lr=0.0002,  # Learning rate for optimizer\n",
    "    content_loss=0.1,  # Weight for content loss in the loss calculation\n",
    "    device=\"cuda\",  # Computation device ('cuda', 'mps', 'cpu')\n",
    "    adam=True,  # Use Adam optimizer; set to False to use SGD if implemented\n",
    "    SGD=False,  # Use Stochastic Gradient Descent optimizer; typically False if Adam is True\n",
    "    beta1=0.5,  # Beta1 parameter for Adam optimizer\n",
    "    is_l1=False,  # Enable L1 regularization\n",
    "    is_l2=False,  # Enable L2 regularization\n",
    "    is_elastic_net=False,  # Enable Elastic Net regularization (combination of L1 and L2)\n",
    "    is_lr_scheduler=False,  # Enable a learning rate scheduler\n",
    "    is_weight_init=False,  # Enable custom weight initialization for the models\n",
    "    is_weight_clip=False,  # Enable weight clipping within the training loop; use a float value for clip magnitude if True\n",
    "    is_display=True,  # Display training progress and statistics\n",
    ")\n",
    "\n",
    "# Start training\n",
    "trainer.train()"
   ]
  },
  {
   "cell_type": "markdown",
   "metadata": {},
   "source": [
    "#### To check the model history"
   ]
  },
  {
   "cell_type": "code",
   "execution_count": null,
   "metadata": {},
   "outputs": [],
   "source": [
    "trainer.plot_history()"
   ]
  },
  {
   "cell_type": "markdown",
   "metadata": {},
   "source": [
    "#### do the testing"
   ]
  },
  {
   "cell_type": "code",
   "execution_count": null,
   "metadata": {},
   "outputs": [],
   "source": [
    "test = Test(device=\"mps\", model=\"path/to/model.pth\")  # use mps, cpu\n",
    "test.plot()"
   ]
  },
  {
   "cell_type": "markdown",
   "metadata": {},
   "source": [
    "#### Inference - single image\n"
   ]
  },
  {
   "cell_type": "code",
   "execution_count": null,
   "metadata": {},
   "outputs": [],
   "source": [
    "inference = Inference(image=\"path/to/image.jpg\", device=\"mps\")  # You can mention the model that you want\n",
    "inference.srgan_single()"
   ]
  },
  {
   "cell_type": "markdown",
   "metadata": {},
   "source": [
    "#### Inference - batch_image"
   ]
  },
  {
   "cell_type": "code",
   "execution_count": null,
   "metadata": {},
   "outputs": [],
   "source": [
    "inference = Inference(device=\"mps\") # You can mention the model that you want \n",
    "inference.srgan_batch()\n",
    "\n",
    "# Images are saved in the folder \"/SRGAN_results/SRGAN-batch\""
   ]
  }
 ],
 "metadata": {
  "kernelspec": {
   "display_name": "GPSG",
   "language": "python",
   "name": "python3"
  },
  "language_info": {
   "codemirror_mode": {
    "name": "ipython",
    "version": 3
   },
   "file_extension": ".py",
   "mimetype": "text/x-python",
   "name": "python",
   "nbconvert_exporter": "python",
   "pygments_lexer": "ipython3",
   "version": "3.9.18"
  }
 },
 "nbformat": 4,
 "nbformat_minor": 2
}
